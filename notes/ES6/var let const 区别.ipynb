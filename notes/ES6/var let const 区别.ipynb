{
 "cells": [
  {
   "cell_type": "markdown",
   "id": "f339a64a",
   "metadata": {},
   "source": [
    "# var let const 区别联系\n",
    "在ES5中，顶层对象的属性和全局变量是等价的，用var声明的变量既是全局变量，也是顶层变量\n",
    "注意：顶层对象，在浏览器环境指的是window对象，在 Node 指的是global对象\n",
    "\n",
    "**1. 顶层对象调用**"
   ]
  },
  {
   "cell_type": "code",
   "execution_count": null,
   "id": "88183142",
   "metadata": {},
   "outputs": [],
   "source": [
    "var a = 10\n",
    "console.log(global.a)\n",
    "// jupyter notebook 内部运行Node.js而不是browser环境，所以没有window变量只有global "
   ]
  },
  {
   "cell_type": "markdown",
   "id": "f0f58ec4",
   "metadata": {},
   "source": [
    "**2. Hoist现象**\n",
    "var、let、const 声明都会在“创建阶段”被发现（hoist），\n",
    "- var：声明提升且初始化为 undefined，函数/全局作用域，可重复声明，访问前无报错。\n",
    "- let 和 const：声明提升但不初始化，进入“暂时性死区”（TDZ），块级作用域，不可重复声明；const 必须声明时赋值且之后不可改。"
   ]
  },
  {
   "cell_type": "code",
   "execution_count": null,
   "id": "2ea779c0",
   "metadata": {},
   "outputs": [],
   "source": [
    "console.log(aVar) // undefined \n",
    "console.log(aConst) // evalmachine reference error  --> TDZ \n",
    "console.log(aLet) // reference error --> TDZ \n",
    "var aVar = 2\n",
    "const aConst = 3\n",
    "let aLet = 'string'"
   ]
  },
  {
   "cell_type": "code",
   "execution_count": null,
   "id": "98445c1b",
   "metadata": {},
   "outputs": [],
   "source": []
  },
  {
   "cell_type": "markdown",
   "id": "29076583",
   "metadata": {},
   "source": []
  }
 ],
 "metadata": {
  "kernelspec": {
   "display_name": "JavaScript (Node.js)",
   "language": "javascript",
   "name": "javascript"
  },
  "language_info": {
   "file_extension": ".js",
   "mimetype": "application/javascript",
   "name": "javascript",
   "version": "20.5.1"
  }
 },
 "nbformat": 4,
 "nbformat_minor": 5
}
